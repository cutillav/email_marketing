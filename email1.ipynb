{
 "cells": [
  {
   "cell_type": "code",
   "execution_count": 7,
   "metadata": {
    "collapsed": false
   },
   "outputs": [],
   "source": [
    "import smtplib"
   ]
  },
  {
   "cell_type": "code",
   "execution_count": 6,
   "metadata": {
    "collapsed": false
   },
   "outputs": [
    {
     "data": {
      "text/plain": [
       "(221, '2.0.0 Service closing transmission channel')"
      ]
     },
     "execution_count": 6,
     "metadata": {},
     "output_type": "execute_result"
    }
   ],
   "source": [
    "server = smtplib.SMTP('smtp.live.com', 587)\n",
    "server.starttls()\n",
    "server.login(\"email\", \"pwd\")\n",
    " \n",
    "msg = \"email1\"\n",
    "server.sendmail(\"from_email\", \"to_email\", msg)\n",
    "server.quit()"
   ]
  },
  {
   "cell_type": "markdown",
   "metadata": {},
   "source": [
    "For a more ellaborated email"
   ]
  },
  {
   "cell_type": "code",
   "execution_count": 8,
   "metadata": {
    "collapsed": false
   },
   "outputs": [
    {
     "data": {
      "text/plain": [
       "(221, '2.0.0 Service closing transmission channel')"
      ]
     },
     "execution_count": 8,
     "metadata": {},
     "output_type": "execute_result"
    }
   ],
   "source": [
    "from email.MIMEMultipart import MIMEMultipart\n",
    "from email.MIMEText import MIMEText\n",
    " \n",
    " \n",
    "fromaddr = \"\"\n",
    "toaddr = \"\"\n",
    "msg = MIMEMultipart()\n",
    "msg['From'] = fromaddr\n",
    "msg['To'] = toaddr\n",
    "msg['Subject'] = \"email2\"\n",
    " \n",
    "body = \"email2\"\n",
    "msg.attach(MIMEText(body, 'plain'))\n",
    " \n",
    "server = smtplib.SMTP('smtp.live.com', 587)\n",
    "server.starttls()\n",
    "server.login(fromaddr, \"pwd\")\n",
    "text = msg.as_string()\n",
    "server.sendmail(fromaddr, toaddr, text)\n",
    "server.quit()"
   ]
  },
  {
   "cell_type": "markdown",
   "metadata": {},
   "source": [
    "Send an email with attachment"
   ]
  },
  {
   "cell_type": "code",
   "execution_count": 12,
   "metadata": {
    "collapsed": false
   },
   "outputs": [
    {
     "data": {
      "text/plain": [
       "(221, '2.0.0 Service closing transmission channel')"
      ]
     },
     "execution_count": 12,
     "metadata": {},
     "output_type": "execute_result"
    }
   ],
   "source": [
    "import smtplib\n",
    "from email.MIMEMultipart import MIMEMultipart\n",
    "from email.MIMEText import MIMEText\n",
    "from email.MIMEBase import MIMEBase\n",
    "from email import encoders\n",
    " \n",
    "#fromaddr = \"\"\n",
    "#toaddr = \"EMAIL ADDRESS YOU SEND TO\"\n",
    " \n",
    "msg = MIMEMultipart()\n",
    " \n",
    "msg['From'] = fromaddr\n",
    "msg['To'] = toaddr\n",
    "msg['Subject'] = \"email con attachment\"\n",
    " \n",
    "body = \"email con attachment\"\n",
    " \n",
    "msg.attach(MIMEText(body, 'plain'))\n",
    " \n",
    "filename = \"rota.jpg\"\n",
    "attachment = open(filename, \"rb\")\n",
    " \n",
    "part = MIMEBase('application', 'octet-stream')\n",
    "part.set_payload((attachment).read())\n",
    "encoders.encode_base64(part)\n",
    "part.add_header('Content-Disposition', \"attachment; filename= %s\" % filename)\n",
    " \n",
    "msg.attach(part)\n",
    " \n",
    "server = smtplib.SMTP('smtp.live.com', 587)\n",
    "server.starttls()\n",
    "server.login(fromaddr, \"pwd\")\n",
    "text = msg.as_string()\n",
    "server.sendmail(fromaddr, toaddr, text)\n",
    "server.quit()"
   ]
  },
  {
   "cell_type": "code",
   "execution_count": null,
   "metadata": {
    "collapsed": true
   },
   "outputs": [],
   "source": []
  }
 ],
 "metadata": {
  "kernelspec": {
   "display_name": "Python 2",
   "language": "python",
   "name": "python2"
  },
  "language_info": {
   "codemirror_mode": {
    "name": "ipython",
    "version": 2
   },
   "file_extension": ".py",
   "mimetype": "text/x-python",
   "name": "python",
   "nbconvert_exporter": "python",
   "pygments_lexer": "ipython2",
   "version": "2.7.6"
  }
 },
 "nbformat": 4,
 "nbformat_minor": 2
}
