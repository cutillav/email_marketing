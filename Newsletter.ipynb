{
 "cells": [
  {
   "cell_type": "code",
   "execution_count": 4,
   "metadata": {},
   "outputs": [],
   "source": [
    "#open files\n",
    "with open(\"Pie.txt\") as f:\n",
    "    pie = f.read()\n",
    "pie=pie.replace('\\n','')\n",
    "#pie = 'pie'"
   ]
  },
  {
   "cell_type": "code",
   "execution_count": 26,
   "metadata": {
    "scrolled": true
   },
   "outputs": [],
   "source": [
    "#open files\n",
    "with open(\"Cabecera.txt\") as f:\n",
    "    cabecera = f.read()\n",
    "cabecera\n",
    "cabecera=cabecera.replace('\\n','')\n",
    "#cabecera = 'cabecera'\n",
    "\n",
    "#open files\n",
    "with open(\"Caja1.txt\") as f:\n",
    "    caja1 = f.read()\n",
    "caja1=caja1.replace('\\n','')\n",
    "#caja1 = 'caja1'\n",
    "\n",
    "#open files\n",
    "with open(\"Caja2.txt\") as f:\n",
    "    caja2 = f.read()\n",
    "caja2=caja2.replace('\\n','')\n",
    "#caja2 = 'caja2'\n",
    "\n",
    "#open files\n",
    "with open(\"Pie.txt\") as f:\n",
    "    pie = f.read()\n",
    "pie=pie.replace('\\n','')\n",
    "#pie = 'pie'"
   ]
  },
  {
   "cell_type": "code",
   "execution_count": 9,
   "metadata": {},
   "outputs": [],
   "source": [
    "#importar el archivo de seguridad\n",
    "import pandas as pd\n",
    "column_names = ['usuario','email','box']\n",
    "seguridad = pd.read_csv('seguridad.csv', header = None, names = column_names)"
   ]
  },
  {
   "cell_type": "code",
   "execution_count": 6,
   "metadata": {},
   "outputs": [
    {
     "data": {
      "text/plain": [
       "array(['estefania', 'victor'], dtype=object)"
      ]
     },
     "execution_count": 6,
     "metadata": {},
     "output_type": "execute_result"
    }
   ],
   "source": [
    "#ahora vamos a crear una lista con usuarios unicos\n",
    "lista_usuarios = seguridad.usuario.unique()\n",
    "lista_usuarios"
   ]
  },
  {
   "cell_type": "code",
   "execution_count": 7,
   "metadata": {},
   "outputs": [],
   "source": [
    "#Vamos a iniciar la configuracion de todo lo relacionado con el correo\n",
    "from email.MIMEMultipart import MIMEMultipart\n",
    "from email.MIMEText import MIMEText\n",
    "from email.MIMEImage import MIMEImage"
   ]
  },
  {
   "cell_type": "code",
   "execution_count": 8,
   "metadata": {},
   "outputs": [],
   "source": [
    "#vamos a iterar la lista de usuarios y, en base a su seguridad, vamos a formar el cuerpo del email dinamicamente\n",
    "# Send the email (this example assumes SMTP authentication is required)\n",
    "import smtplib\n",
    "#iterar los usuarios\n",
    "for usuario in lista_usuarios:\n",
    "    smtp = smtplib.SMTP('smtp.live.com', 587)\n",
    "    # Define these once; use them twice!\n",
    "    strFrom = ''\n",
    "    strTo = ''\n",
    "\n",
    "    # Create the root message and fill in the from, to, and subject headers\n",
    "    msgRoot = MIMEMultipart('root')\n",
    "    msgRoot['Subject'] = 'html email'\n",
    "    msgRoot['From'] = strFrom\n",
    "    msgRoot['To'] = strTo\n",
    "    msgRoot.preamble = 'This is a multi-part message in MIME'\n",
    "    msgCuerpo = MIMEMultipart('cuerpo')\n",
    "    msgRoot.attach(msgCuerpo)\n",
    "    \n",
    "    #todo el html ira en la variable msg, y en principio solo tendra la cabecera \n",
    "    msg = cabecera\n",
    "    #inicializamos las variables que indican las cajas que tienen que ver los usuarios\n",
    "    tiene_caja1 = 0\n",
    "    tiene_caja2 = 0\n",
    "    #iteramos el dataframe de la seguridad\n",
    "    for index, row in seguridad.iterrows():\n",
    "        if usuario == row[0]:\n",
    "            if row[2] == 'caja1':\n",
    "                tiene_caja1 = 1\n",
    "            if row[2] == 'caja2':\n",
    "                tiene_caja2 = 1\n",
    "            strTo = row[1]\n",
    "    if tiene_caja1 == 1:\n",
    "        #si el usuario tiene permisos para ver la caja1, entonces se añade la variable caja1 al msg\n",
    "        msg = msg + caja1\n",
    "    if tiene_caja2 == 1:\n",
    "        #si el usuario tiene permisos para ver la caja2, entonces se añade la variable caja1 al msg\n",
    "        msg = msg + caja2\n",
    "    #finalmente se añade el pie al msg\n",
    "    msg = msg + pie\n",
    "    #se convierte todo el msg a html\n",
    "    msg = MIMEText(msg,'html')\n",
    "    msgCuerpo.attach(msg)\n",
    "    msgRoot['To'] = strTo\n",
    "    #print usuario, msgRoot.as_string()\n",
    "    smtp.starttls()\n",
    "    smtp.login('', '')\n",
    "    smtp.sendmail(strFrom, strTo, msgRoot.as_string())\n",
    "    smtp.quit()    "
   ]
  },
  {
   "cell_type": "code",
   "execution_count": null,
   "metadata": {},
   "outputs": [],
   "source": []
  },
  {
   "cell_type": "code",
   "execution_count": null,
   "metadata": {},
   "outputs": [],
   "source": []
  }
 ],
 "metadata": {
  "kernelspec": {
   "display_name": "Python 2",
   "language": "python",
   "name": "python2"
  },
  "language_info": {
   "codemirror_mode": {
    "name": "ipython",
    "version": 2
   },
   "file_extension": ".py",
   "mimetype": "text/x-python",
   "name": "python",
   "nbconvert_exporter": "python",
   "pygments_lexer": "ipython2",
   "version": "2.7.12"
  }
 },
 "nbformat": 4,
 "nbformat_minor": 2
}
