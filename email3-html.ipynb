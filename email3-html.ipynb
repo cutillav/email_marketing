{
 "cells": [
  {
   "cell_type": "code",
   "execution_count": 23,
   "metadata": {
    "collapsed": false,
    "scrolled": true
   },
   "outputs": [
    {
     "data": {
      "text/html": [
       "<div>\n",
       "<table border=\"1\" class=\"dataframe\">\n",
       "  <thead>\n",
       "    <tr style=\"text-align: right;\">\n",
       "      <th></th>\n",
       "      <th>Usuario</th>\n",
       "      <th>Email</th>\n",
       "      <th>Box</th>\n",
       "    </tr>\n",
       "  </thead>\n",
       "  <tbody>\n",
       "    <tr>\n",
       "      <th>0</th>\n",
       "      <td>estefania</td>\n",
       "      <td>estefania.cutilla@clariba.com</td>\n",
       "      <td>caja1</td>\n",
       "    </tr>\n",
       "    <tr>\n",
       "      <th>1</th>\n",
       "      <td>victor</td>\n",
       "      <td>victor.cutilla@clariba.com</td>\n",
       "      <td>caja1</td>\n",
       "    </tr>\n",
       "    <tr>\n",
       "      <th>2</th>\n",
       "      <td>victor</td>\n",
       "      <td>victor.cutilla@clariba.com</td>\n",
       "      <td>caja2</td>\n",
       "    </tr>\n",
       "  </tbody>\n",
       "</table>\n",
       "</div>"
      ],
      "text/plain": [
       "     Usuario                          Email    Box\n",
       "0  estefania  estefania.cutilla@clariba.com  caja1\n",
       "1     victor     victor.cutilla@clariba.com  caja1\n",
       "2     victor     victor.cutilla@clariba.com  caja2"
      ]
     },
     "execution_count": 23,
     "metadata": {},
     "output_type": "execute_result"
    }
   ],
   "source": [
    "#open files\n",
    "import pandas as pd\n",
    "\n",
    "column_names = ['Usuario', 'Email', 'Box']\n",
    "seg = pd.read_csv('seguridad.csv', header = None, names = column_names)\n",
    "seg\n"
   ]
  },
  {
   "cell_type": "code",
   "execution_count": 12,
   "metadata": {
    "collapsed": false
   },
   "outputs": [
    {
     "data": {
      "text/plain": [
       "' <tr>              <td bgcolor=\"#ee4c50\">              </td>        </tr></table>   </td>  </tr>   </table>  </body>  <td bgcolor=\"#ee4c50\" style=\"padding: 30px 30px 30px 30px;\"></td></html>'"
      ]
     },
     "execution_count": 12,
     "metadata": {},
     "output_type": "execute_result"
    }
   ],
   "source": [
    "#open files\n",
    "with open(\"Cabecera.txt\") as f:\n",
    "    cabecera = f.read()\n",
    "cabecera\n",
    "cabecera=cabecera.replace('\\n','')\n",
    "cabecera\n",
    "\n",
    "#open files\n",
    "with open(\"Caja1.txt\") as f:\n",
    "    caja1 = f.read()\n",
    "caja1=caja1.replace('\\n','')\n",
    "caja1\n",
    "\n",
    "#open files\n",
    "with open(\"Caja2.txt\") as f:\n",
    "    caja2 = f.read()\n",
    "caja2=caja2.replace('\\n','')\n",
    "caja2\n",
    "\n",
    "#open files\n",
    "with open(\"Pie.txt\") as f:\n",
    "    pie = f.read()\n",
    "pie=pie.replace('\\n','')\n",
    "pie"
   ]
  },
  {
   "cell_type": "code",
   "execution_count": 26,
   "metadata": {
    "collapsed": false
   },
   "outputs": [],
   "source": [
    "#sacar lista unica de usuarios\n",
    "lista_usuario = seg.Usuario.unique()"
   ]
  },
  {
   "cell_type": "code",
   "execution_count": 27,
   "metadata": {
    "collapsed": false
   },
   "outputs": [
    {
     "name": "stdout",
     "output_type": "stream",
     "text": [
      "estefania\n",
      "victor\n"
     ]
    }
   ],
   "source": [
    "seg_usuarios = []\n",
    "ermiso_caja2 = 0\n",
    "for usuario in lista_usuario:\n",
    "    for index, row in seg.iterros():\n",
    "        if row[0] == usuario:\n",
    "            if row[2] == 'Caja1':\n",
    "                permiso_caja1 = 1\n",
    "            elif row[2] == 'Caja2':\n",
    "                permiso_caja2 = 1\n",
    "    "
   ]
  },
  {
   "cell_type": "code",
   "execution_count": 24,
   "metadata": {
    "collapsed": false
   },
   "outputs": [
    {
     "name": "stdout",
     "output_type": "stream",
     "text": [
      "estefania\n",
      "victor\n",
      "victor\n"
     ]
    }
   ],
   "source": [
    "email = cabecera\n",
    "for index, row in seg.iterrows():\n",
    "    #comprobar ahora "
   ]
  },
  {
   "cell_type": "code",
   "execution_count": 21,
   "metadata": {
    "collapsed": false
   },
   "outputs": [
    {
     "ename": "TypeError",
     "evalue": "print_email() takes exactly 1 argument (0 given)",
     "output_type": "error",
     "traceback": [
      "\u001b[0;31m---------------------------------------------------------------------------\u001b[0m",
      "\u001b[0;31mTypeError\u001b[0m                                 Traceback (most recent call last)",
      "\u001b[0;32m<ipython-input-21-c9e3ab5a74b1>\u001b[0m in \u001b[0;36m<module>\u001b[0;34m()\u001b[0m\n\u001b[1;32m     32\u001b[0m             \u001b[0msg\u001b[0m\u001b[0;34m.\u001b[0m\u001b[0mattach\u001b[0m\u001b[0;34m(\u001b[0m\u001b[0mMIMEText\u001b[0m\u001b[0;34m(\u001b[0m\u001b[0mbody2\u001b[0m\u001b[0;34m,\u001b[0m \u001b[0;34m'plain'\u001b[0m\u001b[0;34m)\u001b[0m\u001b[0;34m)\u001b[0m\u001b[0;34m\u001b[0m\u001b[0m\n\u001b[1;32m     33\u001b[0m         \u001b[0;32mreturn\u001b[0m \u001b[0mseg\u001b[0m\u001b[0;34m(\u001b[0m\u001b[0;34m)\u001b[0m\u001b[0;34m\u001b[0m\u001b[0m\n\u001b[0;32m---> 34\u001b[0;31m \u001b[0;32mprint\u001b[0m \u001b[0mprint_email\u001b[0m\u001b[0;34m(\u001b[0m\u001b[0;34m)\u001b[0m\u001b[0;34m\u001b[0m\u001b[0m\n\u001b[0m\u001b[1;32m     35\u001b[0m \u001b[0;34m\u001b[0m\u001b[0m\n\u001b[1;32m     36\u001b[0m \u001b[0;31m# Encapsulate the plain and HTML versions of the message body in an\u001b[0m\u001b[0;34m\u001b[0m\u001b[0;34m\u001b[0m\u001b[0m\n",
      "\u001b[0;31mTypeError\u001b[0m: print_email() takes exactly 1 argument (0 given)"
     ]
    }
   ],
   "source": [
    "# Send an HTML email with an embedded image and a plain text message for\n",
    "# email clients that don't want to display the HTML.\n",
    "\n",
    "from email.MIMEMultipart import MIMEMultipart\n",
    "from email.MIMEText import MIMEText\n",
    "from email.MIMEImage import MIMEImage\n",
    "\n",
    "#open files\n",
    "\n",
    "\n",
    "# Define these once; use them twice!\n",
    "strFrom = 'victorcutilla@hotmail.com'\n",
    "strTo = 'estefania.cutilla@clariba.com'\n",
    "\n",
    "# Create the root message and fill in the from, to, and subject headers\n",
    "msgRoot = MIMEMultipart('related')\n",
    "msgRoot['Subject'] = 'html email'\n",
    "msgRoot['From'] = strFrom\n",
    "msgRoot['To'] = strTo\n",
    "msgRoot.preamble = 'This is a multi-part message in MIME format.'\n",
    "\n",
    "body1 = {'cabecera', 'caja1', 'pie'}\n",
    "body2 = {'cabecera', 'caja1', 'caja2', 'pie'}\n",
    "\n",
    "def print_email(seg):\n",
    "    for cajas in Box:\n",
    "        if Box == 'Caja1':\n",
    "            msg.attach(MIMEText(body1, 'plain'))\n",
    "        return seg()\n",
    "        \n",
    "        if Box == 'Caja1' and 'Caja2':\n",
    "            msg.attach(MIMEText(body2, 'plain'))\n",
    "        return seg()\n",
    "print print_email()\n",
    "\n",
    "# Encapsulate the plain and HTML versions of the message body in an\n",
    "# 'alternative' part, so message agents can decide which they want to display.\n",
    "##msgAlternative = MIMEMultipart('alternative')\n",
    "##msgRoot.attach(msgAlternative)\n",
    "\n",
    "##msgText = MIMEText('This is the alternative plain text message.')\n",
    "##msgAlternative.attach(msgText)\n",
    "\n",
    "# We reference the image in the IMG SRC attribute by the ID we give it below\n",
    "##msgText = MIMEText('<b>Some <i>HTML</i> text</b> and an image.<br><img src=\"cid:image1\"><br>Nifty!', 'html')\n",
    "##msgAlternative.attach(msgText)\n",
    "\n",
    "# This example assumes the image is in the current directory\n",
    "##fp = open('rota.jpg', 'rb')\n",
    "##msgImage = MIMEImage(fp.read())\n",
    "##fp.close()\n",
    "\n",
    "# Define the image's ID as referenced above\n",
    "msgImage.add_header('Content-ID', '<image1>')\n",
    "msgRoot.attach(msgImage)\n",
    "\n",
    "\n",
    "\n",
    "\n",
    "\n",
    "# Send the email (this example assumes SMTP authentication is required)\n",
    "import smtplib\n",
    "smtp = smtplib.SMTP('smtp.live.com', 587)\n",
    "smtp.starttls()\n",
    "smtp.login('', '')\n",
    "smtp.sendmail(strFrom, strTo, msgRoot.as_string())\n",
    "smtp.quit()"
   ]
  },
  {
   "cell_type": "code",
   "execution_count": null,
   "metadata": {
    "collapsed": true
   },
   "outputs": [],
   "source": []
  },
  {
   "cell_type": "code",
   "execution_count": null,
   "metadata": {
    "collapsed": true
   },
   "outputs": [],
   "source": []
  }
 ],
 "metadata": {
  "kernelspec": {
   "display_name": "Python 2",
   "language": "python",
   "name": "python2"
  },
  "language_info": {
   "codemirror_mode": {
    "name": "ipython",
    "version": 2
   },
   "file_extension": ".py",
   "mimetype": "text/x-python",
   "name": "python",
   "nbconvert_exporter": "python",
   "pygments_lexer": "ipython2",
   "version": "2.7.12"
  }
 },
 "nbformat": 4,
 "nbformat_minor": 2
}
